{
  "cells": [
    {
      "cell_type": "markdown",
      "metadata": {
        "id": "w-L1oRwburt3"
      },
      "source": [
        "# Lab Assignment 1: Text Processing Techniques"
      ]
    },
    {
      "cell_type": "markdown",
      "metadata": {
        "id": "c6GxStwZurt4"
      },
      "source": [
        "## 1. Library and data import and Summary of the input data."
      ]
    },
    {
      "cell_type": "code",
      "execution_count": 132,
      "metadata": {
        "id": "pwVzAaHFurt5",
        "colab": {
          "base_uri": "https://localhost:8080/",
          "height": 820
        },
        "outputId": "5b68e3dc-f07c-4b29-844d-351a2d38c16b"
      },
      "outputs": [
        {
          "output_type": "stream",
          "name": "stdout",
          "text": [
            "Requirement already satisfied: matplotlib in /usr/local/lib/python3.10/dist-packages (3.7.1)\n",
            "Requirement already satisfied: contourpy>=1.0.1 in /usr/local/lib/python3.10/dist-packages (from matplotlib) (1.2.0)\n",
            "Requirement already satisfied: cycler>=0.10 in /usr/local/lib/python3.10/dist-packages (from matplotlib) (0.12.1)\n",
            "Requirement already satisfied: fonttools>=4.22.0 in /usr/local/lib/python3.10/dist-packages (from matplotlib) (4.47.2)\n",
            "Requirement already satisfied: kiwisolver>=1.0.1 in /usr/local/lib/python3.10/dist-packages (from matplotlib) (1.4.5)\n",
            "Requirement already satisfied: numpy>=1.20 in /usr/local/lib/python3.10/dist-packages (from matplotlib) (1.23.5)\n",
            "Requirement already satisfied: packaging>=20.0 in /usr/local/lib/python3.10/dist-packages (from matplotlib) (23.2)\n",
            "Requirement already satisfied: pillow>=6.2.0 in /usr/local/lib/python3.10/dist-packages (from matplotlib) (9.4.0)\n",
            "Requirement already satisfied: pyparsing>=2.3.1 in /usr/local/lib/python3.10/dist-packages (from matplotlib) (3.1.1)\n",
            "Requirement already satisfied: python-dateutil>=2.7 in /usr/local/lib/python3.10/dist-packages (from matplotlib) (2.8.2)\n",
            "Requirement already satisfied: six>=1.5 in /usr/local/lib/python3.10/dist-packages (from python-dateutil>=2.7->matplotlib) (1.16.0)\n",
            "\u001b[38;5;2m✔ Download and installation successful\u001b[0m\n",
            "You can now load the package via spacy.load('en_core_web_lg')\n",
            "Drive already mounted at /content/drive; to attempt to forcibly remount, call drive.mount(\"/content/drive\", force_remount=True).\n",
            "<class 'pandas.core.frame.DataFrame'>\n",
            "RangeIndex: 48147 entries, 0 to 48146\n",
            "Data columns (total 9 columns):\n",
            " #   Column       Non-Null Count  Dtype \n",
            "---  ------       --------------  ----- \n",
            " 0   review_id    48147 non-null  object\n",
            " 1   user_id      48147 non-null  object\n",
            " 2   business_id  48147 non-null  object\n",
            " 3   stars        48147 non-null  int64 \n",
            " 4   useful       48147 non-null  int64 \n",
            " 5   funny        48147 non-null  int64 \n",
            " 6   cool         48147 non-null  int64 \n",
            " 7   text         48147 non-null  object\n",
            " 8   date         48147 non-null  object\n",
            "dtypes: int64(4), object(5)\n",
            "memory usage: 3.3+ MB\n"
          ]
        },
        {
          "output_type": "execute_result",
          "data": {
            "text/plain": [
              "              stars        useful         funny          cool\n",
              "count  48147.000000  48147.000000  48147.000000  48147.000000\n",
              "mean       3.736702      0.858683      0.183106      0.439903\n",
              "std        1.557289      1.831488      0.807035      1.451746\n",
              "min        1.000000      0.000000      0.000000      0.000000\n",
              "25%        2.000000      0.000000      0.000000      0.000000\n",
              "50%        5.000000      0.000000      0.000000      0.000000\n",
              "75%        5.000000      1.000000      0.000000      0.000000\n",
              "max        5.000000    105.000000     55.000000    106.000000"
            ],
            "text/html": [
              "\n",
              "  <div id=\"df-06c0e777-d78a-480a-aaa5-cb2a8d0b9223\" class=\"colab-df-container\">\n",
              "    <div>\n",
              "<style scoped>\n",
              "    .dataframe tbody tr th:only-of-type {\n",
              "        vertical-align: middle;\n",
              "    }\n",
              "\n",
              "    .dataframe tbody tr th {\n",
              "        vertical-align: top;\n",
              "    }\n",
              "\n",
              "    .dataframe thead th {\n",
              "        text-align: right;\n",
              "    }\n",
              "</style>\n",
              "<table border=\"1\" class=\"dataframe\">\n",
              "  <thead>\n",
              "    <tr style=\"text-align: right;\">\n",
              "      <th></th>\n",
              "      <th>stars</th>\n",
              "      <th>useful</th>\n",
              "      <th>funny</th>\n",
              "      <th>cool</th>\n",
              "    </tr>\n",
              "  </thead>\n",
              "  <tbody>\n",
              "    <tr>\n",
              "      <th>count</th>\n",
              "      <td>48147.000000</td>\n",
              "      <td>48147.000000</td>\n",
              "      <td>48147.000000</td>\n",
              "      <td>48147.000000</td>\n",
              "    </tr>\n",
              "    <tr>\n",
              "      <th>mean</th>\n",
              "      <td>3.736702</td>\n",
              "      <td>0.858683</td>\n",
              "      <td>0.183106</td>\n",
              "      <td>0.439903</td>\n",
              "    </tr>\n",
              "    <tr>\n",
              "      <th>std</th>\n",
              "      <td>1.557289</td>\n",
              "      <td>1.831488</td>\n",
              "      <td>0.807035</td>\n",
              "      <td>1.451746</td>\n",
              "    </tr>\n",
              "    <tr>\n",
              "      <th>min</th>\n",
              "      <td>1.000000</td>\n",
              "      <td>0.000000</td>\n",
              "      <td>0.000000</td>\n",
              "      <td>0.000000</td>\n",
              "    </tr>\n",
              "    <tr>\n",
              "      <th>25%</th>\n",
              "      <td>2.000000</td>\n",
              "      <td>0.000000</td>\n",
              "      <td>0.000000</td>\n",
              "      <td>0.000000</td>\n",
              "    </tr>\n",
              "    <tr>\n",
              "      <th>50%</th>\n",
              "      <td>5.000000</td>\n",
              "      <td>0.000000</td>\n",
              "      <td>0.000000</td>\n",
              "      <td>0.000000</td>\n",
              "    </tr>\n",
              "    <tr>\n",
              "      <th>75%</th>\n",
              "      <td>5.000000</td>\n",
              "      <td>1.000000</td>\n",
              "      <td>0.000000</td>\n",
              "      <td>0.000000</td>\n",
              "    </tr>\n",
              "    <tr>\n",
              "      <th>max</th>\n",
              "      <td>5.000000</td>\n",
              "      <td>105.000000</td>\n",
              "      <td>55.000000</td>\n",
              "      <td>106.000000</td>\n",
              "    </tr>\n",
              "  </tbody>\n",
              "</table>\n",
              "</div>\n",
              "    <div class=\"colab-df-buttons\">\n",
              "\n",
              "  <div class=\"colab-df-container\">\n",
              "    <button class=\"colab-df-convert\" onclick=\"convertToInteractive('df-06c0e777-d78a-480a-aaa5-cb2a8d0b9223')\"\n",
              "            title=\"Convert this dataframe to an interactive table.\"\n",
              "            style=\"display:none;\">\n",
              "\n",
              "  <svg xmlns=\"http://www.w3.org/2000/svg\" height=\"24px\" viewBox=\"0 -960 960 960\">\n",
              "    <path d=\"M120-120v-720h720v720H120Zm60-500h600v-160H180v160Zm220 220h160v-160H400v160Zm0 220h160v-160H400v160ZM180-400h160v-160H180v160Zm440 0h160v-160H620v160ZM180-180h160v-160H180v160Zm440 0h160v-160H620v160Z\"/>\n",
              "  </svg>\n",
              "    </button>\n",
              "\n",
              "  <style>\n",
              "    .colab-df-container {\n",
              "      display:flex;\n",
              "      gap: 12px;\n",
              "    }\n",
              "\n",
              "    .colab-df-convert {\n",
              "      background-color: #E8F0FE;\n",
              "      border: none;\n",
              "      border-radius: 50%;\n",
              "      cursor: pointer;\n",
              "      display: none;\n",
              "      fill: #1967D2;\n",
              "      height: 32px;\n",
              "      padding: 0 0 0 0;\n",
              "      width: 32px;\n",
              "    }\n",
              "\n",
              "    .colab-df-convert:hover {\n",
              "      background-color: #E2EBFA;\n",
              "      box-shadow: 0px 1px 2px rgba(60, 64, 67, 0.3), 0px 1px 3px 1px rgba(60, 64, 67, 0.15);\n",
              "      fill: #174EA6;\n",
              "    }\n",
              "\n",
              "    .colab-df-buttons div {\n",
              "      margin-bottom: 4px;\n",
              "    }\n",
              "\n",
              "    [theme=dark] .colab-df-convert {\n",
              "      background-color: #3B4455;\n",
              "      fill: #D2E3FC;\n",
              "    }\n",
              "\n",
              "    [theme=dark] .colab-df-convert:hover {\n",
              "      background-color: #434B5C;\n",
              "      box-shadow: 0px 1px 3px 1px rgba(0, 0, 0, 0.15);\n",
              "      filter: drop-shadow(0px 1px 2px rgba(0, 0, 0, 0.3));\n",
              "      fill: #FFFFFF;\n",
              "    }\n",
              "  </style>\n",
              "\n",
              "    <script>\n",
              "      const buttonEl =\n",
              "        document.querySelector('#df-06c0e777-d78a-480a-aaa5-cb2a8d0b9223 button.colab-df-convert');\n",
              "      buttonEl.style.display =\n",
              "        google.colab.kernel.accessAllowed ? 'block' : 'none';\n",
              "\n",
              "      async function convertToInteractive(key) {\n",
              "        const element = document.querySelector('#df-06c0e777-d78a-480a-aaa5-cb2a8d0b9223');\n",
              "        const dataTable =\n",
              "          await google.colab.kernel.invokeFunction('convertToInteractive',\n",
              "                                                    [key], {});\n",
              "        if (!dataTable) return;\n",
              "\n",
              "        const docLinkHtml = 'Like what you see? Visit the ' +\n",
              "          '<a target=\"_blank\" href=https://colab.research.google.com/notebooks/data_table.ipynb>data table notebook</a>'\n",
              "          + ' to learn more about interactive tables.';\n",
              "        element.innerHTML = '';\n",
              "        dataTable['output_type'] = 'display_data';\n",
              "        await google.colab.output.renderOutput(dataTable, element);\n",
              "        const docLink = document.createElement('div');\n",
              "        docLink.innerHTML = docLinkHtml;\n",
              "        element.appendChild(docLink);\n",
              "      }\n",
              "    </script>\n",
              "  </div>\n",
              "\n",
              "\n",
              "<div id=\"df-30c95101-6ac3-4606-85e8-88327b4d1df3\">\n",
              "  <button class=\"colab-df-quickchart\" onclick=\"quickchart('df-30c95101-6ac3-4606-85e8-88327b4d1df3')\"\n",
              "            title=\"Suggest charts\"\n",
              "            style=\"display:none;\">\n",
              "\n",
              "<svg xmlns=\"http://www.w3.org/2000/svg\" height=\"24px\"viewBox=\"0 0 24 24\"\n",
              "     width=\"24px\">\n",
              "    <g>\n",
              "        <path d=\"M19 3H5c-1.1 0-2 .9-2 2v14c0 1.1.9 2 2 2h14c1.1 0 2-.9 2-2V5c0-1.1-.9-2-2-2zM9 17H7v-7h2v7zm4 0h-2V7h2v10zm4 0h-2v-4h2v4z\"/>\n",
              "    </g>\n",
              "</svg>\n",
              "  </button>\n",
              "\n",
              "<style>\n",
              "  .colab-df-quickchart {\n",
              "      --bg-color: #E8F0FE;\n",
              "      --fill-color: #1967D2;\n",
              "      --hover-bg-color: #E2EBFA;\n",
              "      --hover-fill-color: #174EA6;\n",
              "      --disabled-fill-color: #AAA;\n",
              "      --disabled-bg-color: #DDD;\n",
              "  }\n",
              "\n",
              "  [theme=dark] .colab-df-quickchart {\n",
              "      --bg-color: #3B4455;\n",
              "      --fill-color: #D2E3FC;\n",
              "      --hover-bg-color: #434B5C;\n",
              "      --hover-fill-color: #FFFFFF;\n",
              "      --disabled-bg-color: #3B4455;\n",
              "      --disabled-fill-color: #666;\n",
              "  }\n",
              "\n",
              "  .colab-df-quickchart {\n",
              "    background-color: var(--bg-color);\n",
              "    border: none;\n",
              "    border-radius: 50%;\n",
              "    cursor: pointer;\n",
              "    display: none;\n",
              "    fill: var(--fill-color);\n",
              "    height: 32px;\n",
              "    padding: 0;\n",
              "    width: 32px;\n",
              "  }\n",
              "\n",
              "  .colab-df-quickchart:hover {\n",
              "    background-color: var(--hover-bg-color);\n",
              "    box-shadow: 0 1px 2px rgba(60, 64, 67, 0.3), 0 1px 3px 1px rgba(60, 64, 67, 0.15);\n",
              "    fill: var(--button-hover-fill-color);\n",
              "  }\n",
              "\n",
              "  .colab-df-quickchart-complete:disabled,\n",
              "  .colab-df-quickchart-complete:disabled:hover {\n",
              "    background-color: var(--disabled-bg-color);\n",
              "    fill: var(--disabled-fill-color);\n",
              "    box-shadow: none;\n",
              "  }\n",
              "\n",
              "  .colab-df-spinner {\n",
              "    border: 2px solid var(--fill-color);\n",
              "    border-color: transparent;\n",
              "    border-bottom-color: var(--fill-color);\n",
              "    animation:\n",
              "      spin 1s steps(1) infinite;\n",
              "  }\n",
              "\n",
              "  @keyframes spin {\n",
              "    0% {\n",
              "      border-color: transparent;\n",
              "      border-bottom-color: var(--fill-color);\n",
              "      border-left-color: var(--fill-color);\n",
              "    }\n",
              "    20% {\n",
              "      border-color: transparent;\n",
              "      border-left-color: var(--fill-color);\n",
              "      border-top-color: var(--fill-color);\n",
              "    }\n",
              "    30% {\n",
              "      border-color: transparent;\n",
              "      border-left-color: var(--fill-color);\n",
              "      border-top-color: var(--fill-color);\n",
              "      border-right-color: var(--fill-color);\n",
              "    }\n",
              "    40% {\n",
              "      border-color: transparent;\n",
              "      border-right-color: var(--fill-color);\n",
              "      border-top-color: var(--fill-color);\n",
              "    }\n",
              "    60% {\n",
              "      border-color: transparent;\n",
              "      border-right-color: var(--fill-color);\n",
              "    }\n",
              "    80% {\n",
              "      border-color: transparent;\n",
              "      border-right-color: var(--fill-color);\n",
              "      border-bottom-color: var(--fill-color);\n",
              "    }\n",
              "    90% {\n",
              "      border-color: transparent;\n",
              "      border-bottom-color: var(--fill-color);\n",
              "    }\n",
              "  }\n",
              "</style>\n",
              "\n",
              "  <script>\n",
              "    async function quickchart(key) {\n",
              "      const quickchartButtonEl =\n",
              "        document.querySelector('#' + key + ' button');\n",
              "      quickchartButtonEl.disabled = true;  // To prevent multiple clicks.\n",
              "      quickchartButtonEl.classList.add('colab-df-spinner');\n",
              "      try {\n",
              "        const charts = await google.colab.kernel.invokeFunction(\n",
              "            'suggestCharts', [key], {});\n",
              "      } catch (error) {\n",
              "        console.error('Error during call to suggestCharts:', error);\n",
              "      }\n",
              "      quickchartButtonEl.classList.remove('colab-df-spinner');\n",
              "      quickchartButtonEl.classList.add('colab-df-quickchart-complete');\n",
              "    }\n",
              "    (() => {\n",
              "      let quickchartButtonEl =\n",
              "        document.querySelector('#df-30c95101-6ac3-4606-85e8-88327b4d1df3 button');\n",
              "      quickchartButtonEl.style.display =\n",
              "        google.colab.kernel.accessAllowed ? 'block' : 'none';\n",
              "    })();\n",
              "  </script>\n",
              "</div>\n",
              "    </div>\n",
              "  </div>\n"
            ]
          },
          "metadata": {},
          "execution_count": 132
        }
      ],
      "source": [
        "import spacy\n",
        "from collections import Counter\n",
        "import nltk\n",
        "from nltk.tokenize import word_tokenize\n",
        "from nltk.corpus import stopwords\n",
        "from nltk import pos_tag, ne_chunk\n",
        "from nltk.tree import Tree\n",
        "from collections import Counter\n",
        "import string\n",
        "import pandas as pd\n",
        "!pip install matplotlib\n",
        "import matplotlib.pyplot as plt\n",
        "import spacy.cli\n",
        "spacy.cli.download(\"en_core_web_lg\")\n",
        "# Load the SpaCy model\n",
        "nlp = spacy.load(\"en_core_web_lg\")\n",
        "from google.colab import drive\n",
        "drive.mount('/content/drive')\n",
        "file_path= '/content/drive/MyDrive/Analytics unstructured data/restaurant_reviews_az.csv'\n",
        "input_df = pd.read_csv(file_path)\n",
        "input_df\n",
        "input_df.info()\n",
        "input_df.describe()"
      ]
    },
    {
      "cell_type": "markdown",
      "source": [
        "## 2. Select the 1 star reviews and 5 star reviews from the dataset."
      ],
      "metadata": {
        "id": "v75FIHAPTTj3"
      }
    },
    {
      "cell_type": "code",
      "source": [
        "# Select the 1-star and 5-star reviews from the dataset\n",
        "one_star_reviews = input_df[input_df['stars'] == 1]\n",
        "five_star_reviews = input_df[input_df['stars'] == 5]"
      ],
      "metadata": {
        "id": "nBkUwPjQqzrj"
      },
      "execution_count": 133,
      "outputs": []
    },
    {
      "cell_type": "markdown",
      "metadata": {
        "id": "oX9kRiSFurt6"
      },
      "source": [
        "## 3. Necessary text processing techniques on the selected reviews."
      ]
    },
    {
      "cell_type": "code",
      "source": [
        "import nltk\n",
        "from nltk.tokenize import word_tokenize\n",
        "from nltk.corpus import stopwords\n",
        "import string\n",
        "\n",
        "# Download necessary NLTK resources\n",
        "nltk.download('punkt')\n",
        "nltk.download('stopwords')\n",
        "\n",
        "# Define a text processing function\n",
        "def process_text(texts):\n",
        "    stop_words = set(stopwords.words('english'))\n",
        "    processed_texts = []\n",
        "\n",
        "    for text in texts:\n",
        "        # Tokenize the text\n",
        "        tokens = word_tokenize(text)\n",
        "        # Convert to lower case\n",
        "        tokens = [w.lower() for w in tokens]\n",
        "        # Remove punctuation from each word\n",
        "        table = str.maketrans('', '', string.punctuation)\n",
        "        stripped = [w.translate(table) for w in tokens]\n",
        "        # Remove remaining tokens that are not alphabetic\n",
        "        words = [word for word in stripped if word.isalpha()]\n",
        "        # Filter out stop words\n",
        "        words = [w for w in words if not w in stop_words]\n",
        "        processed_texts.append(words)\n",
        "    return processed_texts\n",
        "\n",
        "# Apply text processing to 1-star and 5-star reviews\n",
        "one_star_processed = process_text(one_star_reviews['text'])\n",
        "five_star_processed = process_text(five_star_reviews['text'])\n",
        "\n",
        "#To check if output is coming fine\n",
        "one_star_processed\n",
        "\n",
        "# Flatten the list of words in reviews\n",
        "one_star_words = [word for review in one_star_processed for word in review]\n",
        "five_star_words = [word for review in five_star_processed for word in review]"
      ],
      "metadata": {
        "colab": {
          "base_uri": "https://localhost:8080/"
        },
        "id": "JzocgNaUqwsV",
        "outputId": "95365bfd-4297-42cf-ab52-f7101f8d2716"
      },
      "execution_count": 134,
      "outputs": [
        {
          "output_type": "stream",
          "name": "stderr",
          "text": [
            "[nltk_data] Downloading package punkt to /root/nltk_data...\n",
            "[nltk_data]   Package punkt is already up-to-date!\n",
            "[nltk_data] Downloading package stopwords to /root/nltk_data...\n",
            "[nltk_data]   Package stopwords is already up-to-date!\n"
          ]
        }
      ]
    },
    {
      "cell_type": "markdown",
      "source": [
        "## 4.The top 20 frequently used nouns in 1 star reviews and 5 star reviews"
      ],
      "metadata": {
        "id": "JDaGpfMzsbSl"
      }
    },
    {
      "cell_type": "code",
      "source": [
        "nltk.download('punkt')\n",
        "nltk.download('stopwords')\n",
        "nltk.download('averaged_perceptron_tagger')\n",
        "nltk.download('maxent_ne_chunker')\n",
        "nltk.download('words')\n",
        "\n",
        "def get_top_pos(words, pos_tag_list):\n",
        "    tagged_words = pos_tag(words)\n",
        "    selected_words = [word for word, pos in tagged_words if pos in pos_tag_list]\n",
        "    return Counter(selected_words).most_common(20)\n",
        "\n",
        "top_nouns_1_star = get_top_pos(one_star_words, ['NN', 'NNS'])\n",
        "top_nouns_5_star = get_top_pos(five_star_words, ['NN', 'NNS'])\n",
        "print(top_nouns_1_star)\n",
        "print(top_nouns_5_star)"
      ],
      "metadata": {
        "colab": {
          "base_uri": "https://localhost:8080/"
        },
        "id": "F_VPZzWk17Xa",
        "outputId": "7b0a342a-5c7b-43e5-e097-eac01f46be42"
      },
      "execution_count": 158,
      "outputs": [
        {
          "output_type": "stream",
          "name": "stderr",
          "text": [
            "[nltk_data] Downloading package punkt to /root/nltk_data...\n",
            "[nltk_data]   Package punkt is already up-to-date!\n",
            "[nltk_data] Downloading package stopwords to /root/nltk_data...\n",
            "[nltk_data]   Package stopwords is already up-to-date!\n",
            "[nltk_data] Downloading package averaged_perceptron_tagger to\n",
            "[nltk_data]     /root/nltk_data...\n",
            "[nltk_data]   Package averaged_perceptron_tagger is already up-to-\n",
            "[nltk_data]       date!\n",
            "[nltk_data] Downloading package maxent_ne_chunker to\n",
            "[nltk_data]     /root/nltk_data...\n",
            "[nltk_data]   Package maxent_ne_chunker is already up-to-date!\n",
            "[nltk_data] Downloading package words to /root/nltk_data...\n",
            "[nltk_data]   Package words is already up-to-date!\n"
          ]
        },
        {
          "output_type": "stream",
          "name": "stdout",
          "text": [
            "[('food', 6582), ('order', 4746), ('time', 3410), ('service', 3045), ('place', 2948), ('minutes', 2390), ('nt', 1722), ('manager', 1595), ('restaurant', 1533), ('people', 1440), ('customer', 1342), ('way', 1109), ('location', 1089), ('staff', 1044), ('experience', 1020), ('times', 924), ('customers', 873), ('money', 859), ('hour', 839), ('pizza', 814)]\n",
            "[('food', 15862), ('place', 9371), ('service', 7439), ('time', 5583), ('staff', 4182), ('tucson', 3643), ('order', 3610), ('restaurant', 3169), ('everything', 2947), ('menu', 2232), ('pizza', 2105), ('experience', 2103), ('chicken', 2048), ('try', 1975), ('love', 1730), ('family', 1700), ('spot', 1671), ('town', 1657), ('nt', 1632), ('breakfast', 1625)]\n"
          ]
        }
      ]
    },
    {
      "cell_type": "markdown",
      "metadata": {
        "id": "Q0weQzNRurt8"
      },
      "source": [
        "## 5. The top 20 frequently used adjectives in 1 star reviews and 5 star reviews."
      ]
    },
    {
      "cell_type": "code",
      "source": [
        "top_adjectives_1_star = get_top_pos(one_star_words, ['JJ', 'JJR', 'JJS'])\n",
        "top_adjectives_5_star = get_top_pos(five_star_words, ['JJ', 'JJR', 'JJS'])\n",
        "print(top_adjectives_1_star)\n",
        "print(top_adjectives_5_star)"
      ],
      "metadata": {
        "colab": {
          "base_uri": "https://localhost:8080/"
        },
        "id": "9rhV5iA779Vs",
        "outputId": "9444b3b9-f009-4c6f-cca7-28b86bb9ea58"
      },
      "execution_count": 159,
      "outputs": [
        {
          "output_type": "stream",
          "name": "stdout",
          "text": [
            "[('nt', 2301), ('good', 1830), ('bad', 1236), ('last', 944), ('table', 803), ('terrible', 782), ('horrible', 773), ('first', 762), ('worst', 760), ('great', 728), ('wrong', 690), ('new', 633), ('sure', 601), ('cheese', 561), ('many', 556), ('cold', 531), ('much', 526), ('small', 512), ('disappointed', 500), ('old', 499)]\n",
            "[('great', 12450), ('good', 9511), ('delicious', 7403), ('best', 4603), ('fresh', 3267), ('nice', 2933), ('friendly', 2646), ('favorite', 2196), ('excellent', 2147), ('nt', 2101), ('first', 1951), ('little', 1893), ('new', 1860), ('hot', 1794), ('happy', 1577), ('amazing', 1555), ('wonderful', 1507), ('sure', 1454), ('perfect', 1443), ('many', 1426)]\n"
          ]
        }
      ]
    },
    {
      "cell_type": "markdown",
      "metadata": {
        "id": "9Hhbqigeurt9"
      },
      "source": [
        "## 6. The top 20 frequently used verbs in 1 star reviews and 5 star reviews."
      ]
    },
    {
      "cell_type": "code",
      "source": [
        "top_verbs_1_star = get_top_pos(one_star_words, ['VB', 'VBD', 'VBG', 'VBN', 'VBP', 'VBZ'])\n",
        "top_verbs_5_star = get_top_pos(five_star_words, ['VB', 'VBD', 'VBG', 'VBN', 'VBP', 'VBZ'])\n",
        "print(top_verbs_1_star)\n",
        "print(top_verbs_5_star)"
      ],
      "metadata": {
        "colab": {
          "base_uri": "https://localhost:8080/"
        },
        "id": "UM9g8Xlc8uHm",
        "outputId": "93de6b9c-de56-49ef-e3e6-1547570fb7c3"
      },
      "execution_count": 160,
      "outputs": [
        {
          "output_type": "stream",
          "name": "stdout",
          "text": [
            "[('ordered', 2525), ('go', 2478), ('get', 2412), ('said', 2392), ('got', 2363), ('nt', 2299), ('asked', 1942), ('went', 1702), ('came', 1671), ('told', 1643), ('going', 1322), ('took', 1117), ('know', 1059), ('called', 976), ('waiting', 946), ('come', 946), ('made', 935), ('waited', 919), ('take', 917), ('make', 889)]\n",
            "[('go', 4415), ('amazing', 3963), ('got', 3657), ('ordered', 3490), ('get', 3064), ('nt', 2741), ('made', 2622), ('love', 2304), ('recommend', 2206), ('came', 2202), ('come', 1992), ('went', 1805), ('loved', 1650), ('make', 1603), ('try', 1544), ('take', 1519), ('tried', 1478), ('going', 1444), ('coming', 1292), ('say', 1204)]\n"
          ]
        }
      ]
    },
    {
      "cell_type": "markdown",
      "source": [
        "## 7. The top 20 frequently used named entities from the selected reviews."
      ],
      "metadata": {
        "id": "pZeja2C49JNB"
      }
    },
    {
      "cell_type": "code",
      "source": [
        "# Function to get the top 20 named entities\n",
        "def get_top_named(texts):\n",
        "    named_entities = []\n",
        "    for text in texts:\n",
        "        # Tokenize the text\n",
        "        token = nltk.word_tokenize(text)\n",
        "        # POS tagging\n",
        "        tagging = nltk.pos_tag(token)\n",
        "        # Named entity chunking\n",
        "        tree = ne_chunk(tagging)\n",
        "        for subtree in tree:\n",
        "            if type(subtree) == Tree:\n",
        "                ne = ' '.join([token for token, pos in subtree.leaves()])\n",
        "                named_entities.append(ne)\n",
        "    return Counter(named_entities).most_common(20)\n",
        "\n",
        "# Get the top 20 named entities from the selected reviews\n",
        "top_named_entities_1_star = get_top_named(one_star_words)\n",
        "top_named_entities_5_star = get_top_named(five_star_words)\n",
        "print(top_named_entities_1_star)\n",
        "print(top_named_entities_5_star)"
      ],
      "metadata": {
        "id": "ly6jG6jl9Sqh"
      },
      "execution_count": null,
      "outputs": []
    },
    {
      "cell_type": "markdown",
      "source": [
        "## 8. Observation on the language of 1 star and 5 star reviews and the key to a good restaurant experience."
      ],
      "metadata": {
        "id": "uwzQG6Rg-z5_"
      }
    },
    {
      "cell_type": "markdown",
      "source": [
        "Distinct patterns in language and mood are shown by comparing restaurant reviews with a rating of 1 to 5 stars. Reviews with one star typically convey discontent and tend to highlight bad encounters with the cuisine, service, or overall value. The **past tense** is used a lot in the text to dwell on disappointing situations. 5-star evaluations, on the other hand, are distinguished by statements of gratitude and contentment that emphasize features like great cuisine, outstanding service, and a cozy setting. The increased number of verbs in the present tense implies an animated, passionate account of enjoyable meals. This comparison highlights how important it is for consumers to have a favorable experience at a restaurant, highlighting the significance of excellent service, delicious cuisine, and a warm atmosphere.\n"
      ],
      "metadata": {
        "id": "9xNB7Rbe_-UO"
      }
    },
    {
      "cell_type": "markdown",
      "source": [
        "## 9.\n",
        "I have taken help from my friend and chatgpt at the time when I was facing some issues."
      ],
      "metadata": {
        "id": "4CiPZeetBSBU"
      }
    },
    {
      "cell_type": "code",
      "source": [],
      "metadata": {
        "id": "3vC5-NlxCQs2"
      },
      "execution_count": null,
      "outputs": []
    }
  ],
  "metadata": {
    "kernelspec": {
      "display_name": "Python 3",
      "language": "python",
      "name": "python3"
    },
    "language_info": {
      "codemirror_mode": {
        "name": "ipython",
        "version": 3
      },
      "file_extension": ".py",
      "mimetype": "text/x-python",
      "name": "python",
      "nbconvert_exporter": "python",
      "pygments_lexer": "ipython3",
      "version": "3.7.3"
    },
    "colab": {
      "provenance": []
    }
  },
  "nbformat": 4,
  "nbformat_minor": 0
}